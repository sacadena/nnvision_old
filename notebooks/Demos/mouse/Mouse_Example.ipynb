{
 "cells": [
  {
   "cell_type": "markdown",
   "metadata": {},
   "source": [
    "# Demo Notebook how to run models on static mouse datasets"
   ]
  },
  {
   "cell_type": "code",
   "execution_count": 11,
   "metadata": {},
   "outputs": [],
   "source": [
    "import datajoint as dj\n",
    "\n",
    "import os\n",
    "import torch\n",
    "import numpy as np\n",
    "import pickle \n",
    "\n",
    "import nnfabrik\n",
    "from nnfabrik import main, builder"
   ]
  },
  {
   "cell_type": "markdown",
   "metadata": {},
   "source": [
    "# Get Dataloader"
   ]
  },
  {
   "cell_type": "code",
   "execution_count": 3,
   "metadata": {},
   "outputs": [],
   "source": [
    "# change path here\n",
    "paths = ['/data/mouse/toliaslab/static/static22564-3-12-preproc0.h5']\n",
    "\n",
    "dataset_fn = 'nnvision.datasets.mouse_static_loaders'\n",
    "dataset_config = dict(\n",
    "    paths=paths,\n",
    "    batch_size=64,\n",
    "    normalize=True,\n",
    "    seed=1000,\n",
    ")\n",
    "dataloaders = builder.get_data(dataset_fn, dataset_config)"
   ]
  },
  {
   "cell_type": "markdown",
   "metadata": {},
   "source": [
    "# Get Model"
   ]
  },
  {
   "cell_type": "markdown",
   "metadata": {},
   "source": [
    "### The old gaussian readout"
   ]
  },
  {
   "cell_type": "code",
   "execution_count": 5,
   "metadata": {},
   "outputs": [
    {
     "name": "stderr",
     "output_type": "stream",
     "text": [
      "/notebooks/ml-utils/mlutils/layers/legacy.py:78: UserWarning: sigma is sampled from uniform distribuiton, instead of a fixed value. Consider setting fixed_sigma to True\n",
      "  warnings.warn(\"sigma is sampled from uniform distribuiton, instead of a fixed value. Consider setting \"\n"
     ]
    }
   ],
   "source": [
    "model_fn = 'nnvision.models.se_core_gauss_readout'\n",
    "model_config = {\n",
    "   'pad_input': False,\n",
    "   'stack': -1,\n",
    "   'layers':4,\n",
    "   'input_kern': 9,\n",
    "   'gamma_input': 20,\n",
    "   'gamma_readout': 0.012,\n",
    "   'hidden_dilation': 1,\n",
    "   'hidden_kern': 7,\n",
    "   'hidden_channels': 64,\n",
    "    'depth_separable': True,\n",
    "    \n",
    "}\n",
    "model = builder.get_model(model_fn=model_fn, model_config=model_config, dataloaders=dataloaders, seed=1000)"
   ]
  },
  {
   "cell_type": "markdown",
   "metadata": {},
   "source": [
    "### Spatial Transformer"
   ]
  },
  {
   "cell_type": "code",
   "execution_count": 6,
   "metadata": {},
   "outputs": [],
   "source": [
    "model_fn = 'nnvision.models.se_core_spatialXfeature_readout'\n",
    "model_config = {\n",
    "   'pad_input': False,\n",
    "   'stack': -1,\n",
    "   'layers':4,\n",
    "   'input_kern': 9,\n",
    "   'gamma_input': 20,\n",
    "   'gamma_readout': 0.005,\n",
    "   'hidden_dilation': 1,\n",
    "   'hidden_kern': 7,\n",
    "   'hidden_channels': 64,\n",
    "    'init_noise': 1e-3,\n",
    "    'depth_separable': True,\n",
    "    \n",
    "}\n",
    "model = builder.get_model(model_fn=model_fn, model_config=model_config, dataloaders=dataloaders, seed=1000)"
   ]
  },
  {
   "cell_type": "markdown",
   "metadata": {},
   "source": [
    "### The New gaussian readout: change gauss_type for the different modes"
   ]
  },
  {
   "cell_type": "code",
   "execution_count": 8,
   "metadata": {},
   "outputs": [],
   "source": [
    "model_fn = 'nnvision.models.se_core_full_gauss_readout'\n",
    "model_config = {\n",
    "   'pad_input': False,\n",
    "   'stack': -1,\n",
    "   'layers':4,\n",
    "   'input_kern': 9,\n",
    "   'gamma_input': 20,          \n",
    "   'hidden_dilation': 1,\n",
    "   'hidden_kern': 7,\n",
    "   'hidden_channels': 64,\n",
    "   'n_se_blocks': 0,\n",
    "   'depth_separable': True,\n",
    "    # readout parameters\n",
    "   'init_mu_range': 0.3,\n",
    "   'grid_mean_predictor': None,\n",
    "   'share_features': False,\n",
    "   'share_grid': False,\n",
    "    'gauss_type': 'full',\n",
    "}\n",
    "model = builder.get_model(model_fn=model_fn, model_config=model_config, dataloaders=dataloaders, seed=1000)"
   ]
  },
  {
   "cell_type": "markdown",
   "metadata": {},
   "source": [
    "# Get Trainer"
   ]
  },
  {
   "cell_type": "code",
   "execution_count": 9,
   "metadata": {},
   "outputs": [],
   "source": [
    "trainer_fn = 'nnvision.training.nnvision_trainer'\n",
    "trainer_config = dict(max_iter=100,\n",
    "                      verbose=False, \n",
    "                      lr_decay_steps=4,\n",
    "                      avg_loss=False, \n",
    "                      patience=5,\n",
    "                      lr_init=.0045)\n",
    "trainer = builder.get_trainer(trainer_fn, trainer_config)"
   ]
  },
  {
   "cell_type": "markdown",
   "metadata": {},
   "source": [
    "# Run Training"
   ]
  },
  {
   "cell_type": "code",
   "execution_count": null,
   "metadata": {},
   "outputs": [],
   "source": [
    "score, output, model_state = trainer(model=model, dataloaders=dataloaders, seed=1000)"
   ]
  },
  {
   "cell_type": "code",
   "execution_count": null,
   "metadata": {},
   "outputs": [],
   "source": []
  },
  {
   "cell_type": "code",
   "execution_count": null,
   "metadata": {},
   "outputs": [],
   "source": []
  }
 ],
 "metadata": {
  "kernelspec": {
   "display_name": "Python 3",
   "language": "python",
   "name": "python3"
  },
  "language_info": {
   "codemirror_mode": {
    "name": "ipython",
    "version": 3
   },
   "file_extension": ".py",
   "mimetype": "text/x-python",
   "name": "python",
   "nbconvert_exporter": "python",
   "pygments_lexer": "ipython3",
   "version": "3.8.0"
  }
 },
 "nbformat": 4,
 "nbformat_minor": 4
}
