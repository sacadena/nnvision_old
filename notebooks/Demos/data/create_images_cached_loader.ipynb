{
 "cells": [
  {
   "cell_type": "code",
   "execution_count": null,
   "metadata": {},
   "outputs": [],
   "source": [
    "import pickle\n",
    "import numpy as np\n",
    "import os\n",
    "from os.path import isfile, join\n",
    "from os import listdir\n"
   ]
  },
  {
   "cell_type": "markdown",
   "metadata": {},
   "source": [
    "# CSRF V1 AND V4"
   ]
  },
  {
   "cell_type": "code",
   "execution_count": null,
   "metadata": {},
   "outputs": [],
   "source": [
    "# Change here where the image file is. so the path needs to point to where the file is.\n",
    "# this is for the v4 images, and the very same is needed for the V1 images.\n",
    "# the save path is where all the individual files will be stored.\n",
    "imagepath = os.getcwd()+'/data/v4/images/Santiago Cadena - imageSet1_original_cropped.pickle'\n",
    "save_path = os.getcwd()+'/data/v4/images/individual/'\n",
    "\n",
    "if imagepath:\n",
    "    with open(imagepath, \"rb\") as pkl:\n",
    "        images = pickle.load(pkl)"
   ]
  },
  {
   "cell_type": "code",
   "execution_count": null,
   "metadata": {},
   "outputs": [],
   "source": [
    "# this will store all 25000 images as a single file in the specified directory.\n",
    "# so this needs to be on the scratch\n",
    "\n",
    "for image_idx, image in enumerate(images):\n",
    "    if image_idx==0:\n",
    "        continue\n",
    "        \n",
    "    savepath=save_path + str(image_idx).zfill(6) +'.npy'\n",
    "    np.save(savepath, image)"
   ]
  },
  {
   "cell_type": "markdown",
   "metadata": {},
   "source": [
    "# Amadeus V1"
   ]
  },
  {
   "cell_type": "markdown",
   "metadata": {},
   "source": [
    "#### the IDs for amadeus V1 start with zero, thats why the save function doesnt need the if statement"
   ]
  },
  {
   "cell_type": "code",
   "execution_count": null,
   "metadata": {},
   "outputs": [],
   "source": [
    "# Change here where the image file is. so the path needs to point to where the file is.\n",
    "# this is for the v4 images.\n",
    "# the save path is where all the individual files will be stored.\n",
    "imagepath = os.getcwd()+'/data/amadeus/images/amadeus_images.pickle'\n",
    "save_path = os.getcwd()+'/data/amadeus/images/individual/'\n",
    "\n",
    "if imagepath:\n",
    "    with open(imagepath, \"rb\") as pkl:\n",
    "        images = pickle.load(pkl)\n",
    "        \n",
    "# this will store all 25000 images as a single file in the specified directory.\n",
    "# so this needs to be on the scratch\n",
    "\n",
    "for image_idx, image in enumerate(images):\n",
    "        \n",
    "    savepath=save_path + str(image_idx).zfill(6) +'.npy'\n",
    "    np.save(savepath, image)"
   ]
  }
 ],
 "metadata": {
  "kernelspec": {
   "display_name": "Python 3",
   "language": "python",
   "name": "python3"
  },
  "language_info": {
   "codemirror_mode": {
    "name": "ipython",
    "version": 3
   },
   "file_extension": ".py",
   "mimetype": "text/x-python",
   "name": "python",
   "nbconvert_exporter": "python",
   "pygments_lexer": "ipython3",
   "version": "3.8.0"
  }
 },
 "nbformat": 4,
 "nbformat_minor": 4
}
