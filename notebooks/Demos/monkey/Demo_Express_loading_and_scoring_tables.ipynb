{
 "cells": [
  {
   "cell_type": "markdown",
   "metadata": {},
   "source": [
    "# Demo Notebook for Express Model Loading and Result Table templates"
   ]
  },
  {
   "cell_type": "markdown",
   "metadata": {},
   "source": [
    "### Imports"
   ]
  },
  {
   "cell_type": "code",
   "execution_count": 1,
   "metadata": {},
   "outputs": [],
   "source": [
    "%load_ext autoreload\n",
    "%autoreload 2"
   ]
  },
  {
   "cell_type": "code",
   "execution_count": 2,
   "metadata": {},
   "outputs": [
    {
     "name": "stdout",
     "output_type": "stream",
     "text": [
      "Connecting kwilleke@sinzlab.chlkmukhxp6i.eu-central-1.rds.amazonaws.com:3306\n",
      "Schema `nnfabrik_konsti_playground`\n",
      "\n"
     ]
    }
   ],
   "source": [
    "import datajoint as dj\n",
    "dj.config[\"enable_python_native_blobs\"] = True\n",
    "dj.config['schema_name'] = \"nnfabrik_konsti_playground\"\n",
    "schema = dj.schema(\"nnfabrik_konsti_playground\")\n",
    "\n",
    "dj.config[\"display.limit\"]=5\n",
    "\n",
    "import torch\n",
    "import numpy as np\n",
    "import time\n",
    "\n",
    "import nnfabrik\n",
    "from nnfabrik import main, builder\n",
    "from nnfabrik.main import *\n",
    "\n",
    "import nnvision"
   ]
  },
  {
   "cell_type": "markdown",
   "metadata": {},
   "source": [
    "## Instantiating the DataInfo table"
   ]
  },
  {
   "cell_type": "code",
   "execution_count": 3,
   "metadata": {},
   "outputs": [],
   "source": [
    "from nnvision.tables.from_nnfabrik import TrainedModel, DataInfo"
   ]
  },
  {
   "cell_type": "code",
   "execution_count": 4,
   "metadata": {},
   "outputs": [],
   "source": [
    "DataInfo().populate()"
   ]
  },
  {
   "cell_type": "code",
   "execution_count": 5,
   "metadata": {},
   "outputs": [
    {
     "data": {
      "text/html": [
       "\n",
       "        \n",
       "        <style type=\"text/css\">\n",
       "            .Relation{\n",
       "                border-collapse:collapse;\n",
       "            }\n",
       "            .Relation th{\n",
       "                background: #A0A0A0; color: #ffffff; padding:4px; border:#f0e0e0 1px solid;\n",
       "                font-weight: normal; font-family: monospace; font-size: 100%;\n",
       "            }\n",
       "            .Relation td{\n",
       "                padding:4px; border:#f0e0e0 1px solid; font-size:100%;\n",
       "            }\n",
       "            .Relation tr:nth-child(odd){\n",
       "                background: #ffffff;\n",
       "            }\n",
       "            .Relation tr:nth-child(even){\n",
       "                background: #f3f1ff;\n",
       "            }\n",
       "            /* Tooltip container */\n",
       "            .djtooltip {\n",
       "            }\n",
       "            /* Tooltip text */\n",
       "            .djtooltip .djtooltiptext {\n",
       "                visibility: hidden;\n",
       "                width: 120px;\n",
       "                background-color: black;\n",
       "                color: #fff;\n",
       "                text-align: center;\n",
       "                padding: 5px 0;\n",
       "                border-radius: 6px;\n",
       "                /* Position the tooltip text - see examples below! */\n",
       "                position: absolute;\n",
       "                z-index: 1;\n",
       "            }\n",
       "            #primary {\n",
       "                font-weight: bold;\n",
       "                color: black;\n",
       "            }\n",
       "\n",
       "            #nonprimary {\n",
       "                font-weight: normal;\n",
       "                color: white;\n",
       "            }\n",
       "\n",
       "            /* Show the tooltip text when you mouse over the tooltip container */\n",
       "            .djtooltip:hover .djtooltiptext {\n",
       "                visibility: visible;\n",
       "            }\n",
       "        </style>\n",
       "        \n",
       "        <b>Table containing information about i/o dimensions and statistics, per data_key in dataset</b>\n",
       "            <div style=\"max-height:1000px;max-width:1500px;overflow:auto;\">\n",
       "            <table border=\"1\" class=\"Relation\">\n",
       "                <thead> <tr style=\"text-align: right;\"> <th> <div class=\"djtooltip\">\n",
       "                                <p id=\"primary\">dataset_fn</p>\n",
       "                                <span class=\"djtooltiptext\">name of the dataset loader function</span>\n",
       "                            </div></th><th><div class=\"djtooltip\">\n",
       "                                <p id=\"primary\">dataset_hash</p>\n",
       "                                <span class=\"djtooltiptext\">hash of the configuration object</span>\n",
       "                            </div></th><th><div class=\"djtooltip\">\n",
       "                                <p id=\"nonprimary\">data_info</p>\n",
       "                                <span class=\"djtooltiptext\">Dictionary of data_keys and i/o information</span>\n",
       "                            </div></th><th><div class=\"djtooltip\">\n",
       "                                <p id=\"nonprimary\">fabrikant_name</p>\n",
       "                                <span class=\"djtooltiptext\">Name of the contributor that added this entry</span>\n",
       "                            </div></th><th><div class=\"djtooltip\">\n",
       "                                <p id=\"nonprimary\">datainfo_ts</p>\n",
       "                                <span class=\"djtooltiptext\">UTZ timestamp at time of insertion</span>\n",
       "                            </div> </th> </tr> </thead>\n",
       "                <tbody> <tr> <td>nnvision.datasets.monkey_static_loader</td>\n",
       "<td>117249699f3051cf435e6254d2972d02</td>\n",
       "<td>=BLOB=</td>\n",
       "<td>kwilleke</td>\n",
       "<td>2020-04-28 23:11:53</td></tr><tr><td>nnvision.datasets.monkey_static_loader</td>\n",
       "<td>4b2fd27381ac30177f4f1f6805c678ee</td>\n",
       "<td>=BLOB=</td>\n",
       "<td>kwilleke</td>\n",
       "<td>2020-04-28 23:11:53</td></tr><tr><td>nnvision.datasets.monkey_static_loader</td>\n",
       "<td>ad2646906c82ada12ec442a4f8905fe8</td>\n",
       "<td>=BLOB=</td>\n",
       "<td>kwilleke</td>\n",
       "<td>2020-04-28 23:11:53</td> </tr> </tbody>\n",
       "            </table>\n",
       "            \n",
       "            <p>Total: 3</p></div>\n",
       "            "
      ],
      "text/plain": [
       "*dataset_fn    *dataset_hash  data_info  fabrikant_name datainfo_ts   \n",
       "+------------+ +------------+ +--------+ +------------+ +------------+\n",
       "nnvision.datas 117249699f3051 =BLOB=     kwilleke       2020-04-28 23:\n",
       "nnvision.datas 4b2fd27381ac30 =BLOB=     kwilleke       2020-04-28 23:\n",
       "nnvision.datas ad2646906c82ad =BLOB=     kwilleke       2020-04-28 23:\n",
       " (Total: 3)"
      ]
     },
     "execution_count": 5,
     "metadata": {},
     "output_type": "execute_result"
    }
   ],
   "source": [
    "DataInfo()"
   ]
  },
  {
   "cell_type": "markdown",
   "metadata": {},
   "source": [
    "#### here's a glimpse of whats in the data info "
   ]
  },
  {
   "cell_type": "code",
   "execution_count": 6,
   "metadata": {},
   "outputs": [
    {
     "data": {
      "text/plain": [
       "array([{'3646924284383': {'input_dimensions': (128, 1, 16, 16), 'input_channels': 1, 'output_dimension': 2, 'img_mean': 112.48829, 'img_std': 64.01505}, '3651417046988': {'input_dimensions': (128, 1, 16, 16), 'input_channels': 1, 'output_dimension': 2, 'img_mean': 112.48829, 'img_std': 64.01505}},\n",
       "       {'3575478071862': {'input_dimensions': (128, 1, 15, 15), 'input_channels': 1, 'output_dimension': 15, 'img_mean': 111.63308, 'img_std': 44.28877}, '3572282892581': {'input_dimensions': (128, 1, 15, 15), 'input_channels': 1, 'output_dimension': 18, 'img_mean': 111.63308, 'img_std': 44.28877}},\n",
       "       {'3631896544452': {'input_dimensions': (128, 1, 11, 11), 'input_channels': 1, 'output_dimension': 32, 'img_mean': 113.92844, 'img_std': 63.936275}, '3632669014376': {'input_dimensions': (128, 1, 11, 11), 'input_channels': 1, 'output_dimension': 21, 'img_mean': 113.92844, 'img_std': 63.936275}}],\n",
       "      dtype=object)"
      ]
     },
     "execution_count": 6,
     "metadata": {},
     "output_type": "execute_result"
    }
   ],
   "source": [
    "DataInfo().fetch(\"data_info\")"
   ]
  },
  {
   "cell_type": "code",
   "execution_count": 7,
   "metadata": {},
   "outputs": [
    {
     "data": {
      "text/html": [
       "\n",
       "        \n",
       "        <style type=\"text/css\">\n",
       "            .Relation{\n",
       "                border-collapse:collapse;\n",
       "            }\n",
       "            .Relation th{\n",
       "                background: #A0A0A0; color: #ffffff; padding:4px; border:#f0e0e0 1px solid;\n",
       "                font-weight: normal; font-family: monospace; font-size: 100%;\n",
       "            }\n",
       "            .Relation td{\n",
       "                padding:4px; border:#f0e0e0 1px solid; font-size:100%;\n",
       "            }\n",
       "            .Relation tr:nth-child(odd){\n",
       "                background: #ffffff;\n",
       "            }\n",
       "            .Relation tr:nth-child(even){\n",
       "                background: #f3f1ff;\n",
       "            }\n",
       "            /* Tooltip container */\n",
       "            .djtooltip {\n",
       "            }\n",
       "            /* Tooltip text */\n",
       "            .djtooltip .djtooltiptext {\n",
       "                visibility: hidden;\n",
       "                width: 120px;\n",
       "                background-color: black;\n",
       "                color: #fff;\n",
       "                text-align: center;\n",
       "                padding: 5px 0;\n",
       "                border-radius: 6px;\n",
       "                /* Position the tooltip text - see examples below! */\n",
       "                position: absolute;\n",
       "                z-index: 1;\n",
       "            }\n",
       "            #primary {\n",
       "                font-weight: bold;\n",
       "                color: black;\n",
       "            }\n",
       "\n",
       "            #nonprimary {\n",
       "                font-weight: normal;\n",
       "                color: white;\n",
       "            }\n",
       "\n",
       "            /* Show the tooltip text when you mouse over the tooltip container */\n",
       "            .djtooltip:hover .djtooltiptext {\n",
       "                visibility: visible;\n",
       "            }\n",
       "        </style>\n",
       "        \n",
       "        <b>Trained models</b>\n",
       "            <div style=\"max-height:1000px;max-width:1500px;overflow:auto;\">\n",
       "            <table border=\"1\" class=\"Relation\">\n",
       "                <thead> <tr style=\"text-align: right;\"> <th> <div class=\"djtooltip\">\n",
       "                                <p id=\"primary\">model_fn</p>\n",
       "                                <span class=\"djtooltiptext\">name of the model function</span>\n",
       "                            </div></th><th><div class=\"djtooltip\">\n",
       "                                <p id=\"primary\">model_hash</p>\n",
       "                                <span class=\"djtooltiptext\">hash of the model configuration</span>\n",
       "                            </div></th><th><div class=\"djtooltip\">\n",
       "                                <p id=\"primary\">dataset_fn</p>\n",
       "                                <span class=\"djtooltiptext\">name of the dataset loader function</span>\n",
       "                            </div></th><th><div class=\"djtooltip\">\n",
       "                                <p id=\"primary\">dataset_hash</p>\n",
       "                                <span class=\"djtooltiptext\">hash of the configuration object</span>\n",
       "                            </div></th><th><div class=\"djtooltip\">\n",
       "                                <p id=\"primary\">trainer_fn</p>\n",
       "                                <span class=\"djtooltiptext\">name of the Trainer loader function</span>\n",
       "                            </div></th><th><div class=\"djtooltip\">\n",
       "                                <p id=\"primary\">trainer_hash</p>\n",
       "                                <span class=\"djtooltiptext\">hash of the configuration object</span>\n",
       "                            </div></th><th><div class=\"djtooltip\">\n",
       "                                <p id=\"primary\">seed</p>\n",
       "                                <span class=\"djtooltiptext\">Random seed that is passed to the model- and dataset-builder</span>\n",
       "                            </div></th><th><div class=\"djtooltip\">\n",
       "                                <p id=\"nonprimary\">comment</p>\n",
       "                                <span class=\"djtooltiptext\">short description</span>\n",
       "                            </div></th><th><div class=\"djtooltip\">\n",
       "                                <p id=\"nonprimary\">score</p>\n",
       "                                <span class=\"djtooltiptext\">loss</span>\n",
       "                            </div></th><th><div class=\"djtooltip\">\n",
       "                                <p id=\"nonprimary\">output</p>\n",
       "                                <span class=\"djtooltiptext\">trainer object's output</span>\n",
       "                            </div></th><th><div class=\"djtooltip\">\n",
       "                                <p id=\"nonprimary\">fabrikant_name</p>\n",
       "                                <span class=\"djtooltiptext\">Name of the contributor that added this entry</span>\n",
       "                            </div></th><th><div class=\"djtooltip\">\n",
       "                                <p id=\"nonprimary\">trainedmodel_ts</p>\n",
       "                                <span class=\"djtooltiptext\">UTZ timestamp at time of insertion</span>\n",
       "                            </div> </th> </tr> </thead>\n",
       "                <tbody> <tr> <td>nnvision.models.se_core_full_gauss_readout</td>\n",
       "<td>28d96f527b5cc4579c9d03859c69ce56</td>\n",
       "<td>nnvision.datasets.monkey_static_loader</td>\n",
       "<td>117249699f3051cf435e6254d2972d02</td>\n",
       "<td>nnvision.training.nnvision_trainer</td>\n",
       "<td>93ddfe9d207ad5075416759970e51fb9</td>\n",
       "<td>1000</td>\n",
       "<td>.V1_Model_gauss.CSRF19_V4</td>\n",
       "<td>0.0785511</td>\n",
       "<td>=BLOB=</td>\n",
       "<td>kwilleke</td>\n",
       "<td>2020-04-23 13:14:28</td></tr><tr><td>nnvision.models.se_core_full_gauss_readout</td>\n",
       "<td>28d96f527b5cc4579c9d03859c69ce56</td>\n",
       "<td>nnvision.datasets.monkey_static_loader</td>\n",
       "<td>117249699f3051cf435e6254d2972d02</td>\n",
       "<td>nnvision.training.nnvision_trainer</td>\n",
       "<td>93ddfe9d207ad5075416759970e51fb9</td>\n",
       "<td>2000</td>\n",
       "<td>.V1_Model_gauss.CSRF19_V4</td>\n",
       "<td>0.0708413</td>\n",
       "<td>=BLOB=</td>\n",
       "<td>kwilleke</td>\n",
       "<td>2020-04-23 15:18:24</td></tr><tr><td>nnvision.models.se_core_full_gauss_readout</td>\n",
       "<td>28d96f527b5cc4579c9d03859c69ce56</td>\n",
       "<td>nnvision.datasets.monkey_static_loader</td>\n",
       "<td>4b2fd27381ac30177f4f1f6805c678ee</td>\n",
       "<td>nnvision.training.nnvision_trainer</td>\n",
       "<td>93ddfe9d207ad5075416759970e51fb9</td>\n",
       "<td>1000</td>\n",
       "<td>.V1_Model_gauss.PlosCB19_V1</td>\n",
       "<td>0.187103</td>\n",
       "<td>=BLOB=</td>\n",
       "<td>kwilleke</td>\n",
       "<td>2020-04-23 13:22:17</td></tr><tr><td>nnvision.models.se_core_full_gauss_readout</td>\n",
       "<td>28d96f527b5cc4579c9d03859c69ce56</td>\n",
       "<td>nnvision.datasets.monkey_static_loader</td>\n",
       "<td>4b2fd27381ac30177f4f1f6805c678ee</td>\n",
       "<td>nnvision.training.nnvision_trainer</td>\n",
       "<td>93ddfe9d207ad5075416759970e51fb9</td>\n",
       "<td>2000</td>\n",
       "<td>.V1_Model_gauss.PlosCB19_V1</td>\n",
       "<td>0.168166</td>\n",
       "<td>=BLOB=</td>\n",
       "<td>kwilleke</td>\n",
       "<td>2020-04-23 15:18:41</td></tr><tr><td>nnvision.models.se_core_full_gauss_readout</td>\n",
       "<td>28d96f527b5cc4579c9d03859c69ce56</td>\n",
       "<td>nnvision.datasets.monkey_static_loader</td>\n",
       "<td>ad2646906c82ada12ec442a4f8905fe8</td>\n",
       "<td>nnvision.training.nnvision_trainer</td>\n",
       "<td>93ddfe9d207ad5075416759970e51fb9</td>\n",
       "<td>1000</td>\n",
       "<td>.V1_Model_gauss.CSRF19_V1_40_6</td>\n",
       "<td>0.23656</td>\n",
       "<td>=BLOB=</td>\n",
       "<td>kwilleke</td>\n",
       "<td>2020-04-23 13:14:04</td> </tr> </tbody>\n",
       "            </table>\n",
       "            <p>...</p>\n",
       "            <p>Total: 30</p></div>\n",
       "            "
      ],
      "text/plain": [
       "*model_fn      *model_hash    *dataset_fn    *dataset_hash  *trainer_fn    *trainer_hash  *seed    comment        score         output     fabrikant_name trainedmodel_t\n",
       "+------------+ +------------+ +------------+ +------------+ +------------+ +------------+ +------+ +------------+ +-----------+ +--------+ +------------+ +------------+\n",
       "nnvision.model 28d96f527b5cc4 nnvision.datas 117249699f3051 nnvision.train 93ddfe9d207ad5 1000     .V1_Model_gaus 0.0785511     =BLOB=     kwilleke       2020-04-23 13:\n",
       "nnvision.model 28d96f527b5cc4 nnvision.datas 117249699f3051 nnvision.train 93ddfe9d207ad5 2000     .V1_Model_gaus 0.0708413     =BLOB=     kwilleke       2020-04-23 15:\n",
       "nnvision.model 28d96f527b5cc4 nnvision.datas 4b2fd27381ac30 nnvision.train 93ddfe9d207ad5 1000     .V1_Model_gaus 0.187103      =BLOB=     kwilleke       2020-04-23 13:\n",
       "nnvision.model 28d96f527b5cc4 nnvision.datas 4b2fd27381ac30 nnvision.train 93ddfe9d207ad5 2000     .V1_Model_gaus 0.168166      =BLOB=     kwilleke       2020-04-23 15:\n",
       "nnvision.model 28d96f527b5cc4 nnvision.datas ad2646906c82ad nnvision.train 93ddfe9d207ad5 1000     .V1_Model_gaus 0.23656       =BLOB=     kwilleke       2020-04-23 13:\n",
       "   ...\n",
       " (Total: 30)"
      ]
     },
     "execution_count": 7,
     "metadata": {},
     "output_type": "execute_result"
    }
   ],
   "source": [
    "TrainedModel()"
   ]
  },
  {
   "cell_type": "markdown",
   "metadata": {},
   "source": [
    "# Define a key"
   ]
  },
  {
   "cell_type": "code",
   "execution_count": 8,
   "metadata": {},
   "outputs": [],
   "source": [
    "example_key = TrainedModel.fetch(\"KEY\")[0]"
   ]
  },
  {
   "cell_type": "markdown",
   "metadata": {},
   "source": [
    "# Model loading without building the dataloader"
   ]
  },
  {
   "cell_type": "code",
   "execution_count": 10,
   "metadata": {},
   "outputs": [
    {
     "name": "stdout",
     "output_type": "stream",
     "text": [
      "elapsed time: 0.5123541355133057s\n"
     ]
    }
   ],
   "source": [
    "before = time.time()\n",
    "model = (TrainedModel&example_key).load_model(include_dataloader=False, include_state_dict=True)\n",
    "print(\"elapsed time: {}s\".format(time.time()-before))"
   ]
  },
  {
   "cell_type": "markdown",
   "metadata": {},
   "source": [
    "# Get a Unit Table"
   ]
  },
  {
   "cell_type": "code",
   "execution_count": 11,
   "metadata": {},
   "outputs": [
    {
     "name": "stdout",
     "output_type": "stream",
     "text": [
      "Schema name: nnfabrik_konsti_playground\n"
     ]
    }
   ],
   "source": [
    "from nnvision.tables.main import MonkeyExperiment"
   ]
  },
  {
   "cell_type": "code",
   "execution_count": 12,
   "metadata": {},
   "outputs": [
    {
     "data": {
      "text/html": [
       "\n",
       "        \n",
       "        <style type=\"text/css\">\n",
       "            .Relation{\n",
       "                border-collapse:collapse;\n",
       "            }\n",
       "            .Relation th{\n",
       "                background: #A0A0A0; color: #ffffff; padding:4px; border:#f0e0e0 1px solid;\n",
       "                font-weight: normal; font-family: monospace; font-size: 100%;\n",
       "            }\n",
       "            .Relation td{\n",
       "                padding:4px; border:#f0e0e0 1px solid; font-size:100%;\n",
       "            }\n",
       "            .Relation tr:nth-child(odd){\n",
       "                background: #ffffff;\n",
       "            }\n",
       "            .Relation tr:nth-child(even){\n",
       "                background: #f3f1ff;\n",
       "            }\n",
       "            /* Tooltip container */\n",
       "            .djtooltip {\n",
       "            }\n",
       "            /* Tooltip text */\n",
       "            .djtooltip .djtooltiptext {\n",
       "                visibility: hidden;\n",
       "                width: 120px;\n",
       "                background-color: black;\n",
       "                color: #fff;\n",
       "                text-align: center;\n",
       "                padding: 5px 0;\n",
       "                border-radius: 6px;\n",
       "                /* Position the tooltip text - see examples below! */\n",
       "                position: absolute;\n",
       "                z-index: 1;\n",
       "            }\n",
       "            #primary {\n",
       "                font-weight: bold;\n",
       "                color: black;\n",
       "            }\n",
       "\n",
       "            #nonprimary {\n",
       "                font-weight: normal;\n",
       "                color: white;\n",
       "            }\n",
       "\n",
       "            /* Show the tooltip text when you mouse over the tooltip container */\n",
       "            .djtooltip:hover .djtooltiptext {\n",
       "                visibility: visible;\n",
       "            }\n",
       "        </style>\n",
       "        \n",
       "        <b>All Units</b>\n",
       "            <div style=\"max-height:1000px;max-width:1500px;overflow:auto;\">\n",
       "            <table border=\"1\" class=\"Relation\">\n",
       "                <thead> <tr style=\"text-align: right;\"> <th> <div class=\"djtooltip\">\n",
       "                                <p id=\"primary\">dataset_fn</p>\n",
       "                                <span class=\"djtooltiptext\">name of the dataset loader function</span>\n",
       "                            </div></th><th><div class=\"djtooltip\">\n",
       "                                <p id=\"primary\">dataset_hash</p>\n",
       "                                <span class=\"djtooltiptext\">hash of the configuration object</span>\n",
       "                            </div></th><th><div class=\"djtooltip\">\n",
       "                                <p id=\"primary\">data_key</p>\n",
       "                                <span class=\"djtooltiptext\"></span>\n",
       "                            </div></th><th><div class=\"djtooltip\">\n",
       "                                <p id=\"primary\">unit_id</p>\n",
       "                                <span class=\"djtooltiptext\"></span>\n",
       "                            </div></th><th><div class=\"djtooltip\">\n",
       "                                <p id=\"nonprimary\">unit_index</p>\n",
       "                                <span class=\"djtooltiptext\"></span>\n",
       "                            </div> </th> </tr> </thead>\n",
       "                <tbody> <tr> <td>nnvision.datasets.monkey_static_loader</td>\n",
       "<td>117249699f3051cf435e6254d2972d02</td>\n",
       "<td>3646924284383</td>\n",
       "<td>2</td>\n",
       "<td>0</td></tr><tr><td>nnvision.datasets.monkey_static_loader</td>\n",
       "<td>117249699f3051cf435e6254d2972d02</td>\n",
       "<td>3646924284383</td>\n",
       "<td>3</td>\n",
       "<td>1</td></tr><tr><td>nnvision.datasets.monkey_static_loader</td>\n",
       "<td>117249699f3051cf435e6254d2972d02</td>\n",
       "<td>3651417046988</td>\n",
       "<td>3</td>\n",
       "<td>0</td></tr><tr><td>nnvision.datasets.monkey_static_loader</td>\n",
       "<td>117249699f3051cf435e6254d2972d02</td>\n",
       "<td>3651417046988</td>\n",
       "<td>5</td>\n",
       "<td>1</td></tr><tr><td>nnvision.datasets.monkey_static_loader</td>\n",
       "<td>4b2fd27381ac30177f4f1f6805c678ee</td>\n",
       "<td>3572282892581</td>\n",
       "<td>0</td>\n",
       "<td>0</td> </tr> </tbody>\n",
       "            </table>\n",
       "            <p>...</p>\n",
       "            <p>Total: 90</p></div>\n",
       "            "
      ],
      "text/plain": [
       "*dataset_fn    *dataset_hash  *data_key      *unit_id    unit_index    \n",
       "+------------+ +------------+ +------------+ +---------+ +------------+\n",
       "nnvision.datas 117249699f3051 3646924284383  2           0             \n",
       "nnvision.datas 117249699f3051 3646924284383  3           1             \n",
       "nnvision.datas 117249699f3051 3651417046988  3           0             \n",
       "nnvision.datas 117249699f3051 3651417046988  5           1             \n",
       "nnvision.datas 4b2fd27381ac30 3572282892581  0           0             \n",
       "   ...\n",
       " (Total: 90)"
      ]
     },
     "execution_count": 12,
     "metadata": {},
     "output_type": "execute_result"
    }
   ],
   "source": [
    "MonkeyExperiment.Units()"
   ]
  },
  {
   "cell_type": "markdown",
   "metadata": {},
   "source": [
    "# Fill Result Tables"
   ]
  },
  {
   "cell_type": "markdown",
   "metadata": {},
   "source": [
    "### Import Result functions"
   ]
  },
  {
   "cell_type": "code",
   "execution_count": 13,
   "metadata": {},
   "outputs": [],
   "source": [
    "from nnvision.utility.measures import get_correlations, get_avg_correlations, get_FEV"
   ]
  },
  {
   "cell_type": "markdown",
   "metadata": {},
   "source": [
    "### Import the template of the score table"
   ]
  },
  {
   "cell_type": "code",
   "execution_count": 14,
   "metadata": {},
   "outputs": [],
   "source": [
    "from nnfabrik.template import ScoringBase"
   ]
  },
  {
   "cell_type": "markdown",
   "metadata": {},
   "source": [
    "# Instantiate result tables - One table per measure"
   ]
  },
  {
   "cell_type": "code",
   "execution_count": 15,
   "metadata": {},
   "outputs": [
    {
     "name": "stderr",
     "output_type": "stream",
     "text": [
      "0it [00:00, ?it/s]\n"
     ]
    }
   ],
   "source": [
    "@schema\n",
    "class TrainCorrelation(ScoringBase):\n",
    "    trainedmodel_table = TrainedModel\n",
    "    unit_table = MonkeyExperiment.Units\n",
    "    scoring_function = staticmethod(get_correlations)\n",
    "    scoring_dataset = \"train\"\n",
    "    scoring_attribute = \"train_correlation\"\n",
    "\n",
    "TrainCorrelation().populate(example_key, display_progress=True)"
   ]
  },
  {
   "cell_type": "code",
   "execution_count": 16,
   "metadata": {},
   "outputs": [
    {
     "data": {
      "text/html": [
       "\n",
       "        \n",
       "        <style type=\"text/css\">\n",
       "            .Relation{\n",
       "                border-collapse:collapse;\n",
       "            }\n",
       "            .Relation th{\n",
       "                background: #A0A0A0; color: #ffffff; padding:4px; border:#f0e0e0 1px solid;\n",
       "                font-weight: normal; font-family: monospace; font-size: 100%;\n",
       "            }\n",
       "            .Relation td{\n",
       "                padding:4px; border:#f0e0e0 1px solid; font-size:100%;\n",
       "            }\n",
       "            .Relation tr:nth-child(odd){\n",
       "                background: #ffffff;\n",
       "            }\n",
       "            .Relation tr:nth-child(even){\n",
       "                background: #f3f1ff;\n",
       "            }\n",
       "            /* Tooltip container */\n",
       "            .djtooltip {\n",
       "            }\n",
       "            /* Tooltip text */\n",
       "            .djtooltip .djtooltiptext {\n",
       "                visibility: hidden;\n",
       "                width: 120px;\n",
       "                background-color: black;\n",
       "                color: #fff;\n",
       "                text-align: center;\n",
       "                padding: 5px 0;\n",
       "                border-radius: 6px;\n",
       "                /* Position the tooltip text - see examples below! */\n",
       "                position: absolute;\n",
       "                z-index: 1;\n",
       "            }\n",
       "            #primary {\n",
       "                font-weight: bold;\n",
       "                color: black;\n",
       "            }\n",
       "\n",
       "            #nonprimary {\n",
       "                font-weight: normal;\n",
       "                color: white;\n",
       "            }\n",
       "\n",
       "            /* Show the tooltip text when you mouse over the tooltip container */\n",
       "            .djtooltip:hover .djtooltiptext {\n",
       "                visibility: visible;\n",
       "            }\n",
       "        </style>\n",
       "        \n",
       "        <b>A template table for storing results/scores of a TrainedModel</b>\n",
       "            <div style=\"max-height:1000px;max-width:1500px;overflow:auto;\">\n",
       "            <table border=\"1\" class=\"Relation\">\n",
       "                <thead> <tr style=\"text-align: right;\"> <th> <div class=\"djtooltip\">\n",
       "                                <p id=\"primary\">model_fn</p>\n",
       "                                <span class=\"djtooltiptext\">name of the model function</span>\n",
       "                            </div></th><th><div class=\"djtooltip\">\n",
       "                                <p id=\"primary\">model_hash</p>\n",
       "                                <span class=\"djtooltiptext\">hash of the model configuration</span>\n",
       "                            </div></th><th><div class=\"djtooltip\">\n",
       "                                <p id=\"primary\">dataset_fn</p>\n",
       "                                <span class=\"djtooltiptext\">name of the dataset loader function</span>\n",
       "                            </div></th><th><div class=\"djtooltip\">\n",
       "                                <p id=\"primary\">dataset_hash</p>\n",
       "                                <span class=\"djtooltiptext\">hash of the configuration object</span>\n",
       "                            </div></th><th><div class=\"djtooltip\">\n",
       "                                <p id=\"primary\">trainer_fn</p>\n",
       "                                <span class=\"djtooltiptext\">name of the Trainer loader function</span>\n",
       "                            </div></th><th><div class=\"djtooltip\">\n",
       "                                <p id=\"primary\">trainer_hash</p>\n",
       "                                <span class=\"djtooltiptext\">hash of the configuration object</span>\n",
       "                            </div></th><th><div class=\"djtooltip\">\n",
       "                                <p id=\"primary\">seed</p>\n",
       "                                <span class=\"djtooltiptext\">Random seed that is passed to the model- and dataset-builder</span>\n",
       "                            </div></th><th><div class=\"djtooltip\">\n",
       "                                <p id=\"nonprimary\">train_correlation</p>\n",
       "                                <span class=\"djtooltiptext\">A template for a computed score of a trained model</span>\n",
       "                            </div></th><th><div class=\"djtooltip\">\n",
       "                                <p id=\"nonprimary\">fabrikant_name</p>\n",
       "                                <span class=\"djtooltiptext\">Name of the contributor that added this entry</span>\n",
       "                            </div></th><th><div class=\"djtooltip\">\n",
       "                                <p id=\"nonprimary\">train_correlation_ts</p>\n",
       "                                <span class=\"djtooltiptext\">UTZ timestamp at time of insertion</span>\n",
       "                            </div> </th> </tr> </thead>\n",
       "                <tbody> <tr> <td>nnvision.models.se_core_full_gauss_readout</td>\n",
       "<td>28d96f527b5cc4579c9d03859c69ce56</td>\n",
       "<td>nnvision.datasets.monkey_static_loader</td>\n",
       "<td>117249699f3051cf435e6254d2972d02</td>\n",
       "<td>nnvision.training.nnvision_trainer</td>\n",
       "<td>93ddfe9d207ad5075416759970e51fb9</td>\n",
       "<td>1000</td>\n",
       "<td>0.0827348</td>\n",
       "<td>kwilleke</td>\n",
       "<td>2020-04-28 23:45:12</td> </tr> </tbody>\n",
       "            </table>\n",
       "            \n",
       "            <p>Total: 1</p></div>\n",
       "            "
      ],
      "text/plain": [
       "*model_fn      *model_hash    *dataset_fn    *dataset_hash  *trainer_fn    *trainer_hash  *seed    train_correlat fabrikant_name train_correlat\n",
       "+------------+ +------------+ +------------+ +------------+ +------------+ +------------+ +------+ +------------+ +------------+ +------------+\n",
       "nnvision.model 28d96f527b5cc4 nnvision.datas 117249699f3051 nnvision.train 93ddfe9d207ad5 1000     0.0827348      kwilleke       2020-04-28 23:\n",
       " (Total: 1)"
      ]
     },
     "execution_count": 16,
     "metadata": {},
     "output_type": "execute_result"
    }
   ],
   "source": [
    "TrainCorrelation()"
   ]
  },
  {
   "cell_type": "code",
   "execution_count": 17,
   "metadata": {},
   "outputs": [
    {
     "data": {
      "text/html": [
       "\n",
       "        \n",
       "        <style type=\"text/css\">\n",
       "            .Relation{\n",
       "                border-collapse:collapse;\n",
       "            }\n",
       "            .Relation th{\n",
       "                background: #A0A0A0; color: #ffffff; padding:4px; border:#f0e0e0 1px solid;\n",
       "                font-weight: normal; font-family: monospace; font-size: 100%;\n",
       "            }\n",
       "            .Relation td{\n",
       "                padding:4px; border:#f0e0e0 1px solid; font-size:100%;\n",
       "            }\n",
       "            .Relation tr:nth-child(odd){\n",
       "                background: #ffffff;\n",
       "            }\n",
       "            .Relation tr:nth-child(even){\n",
       "                background: #f3f1ff;\n",
       "            }\n",
       "            /* Tooltip container */\n",
       "            .djtooltip {\n",
       "            }\n",
       "            /* Tooltip text */\n",
       "            .djtooltip .djtooltiptext {\n",
       "                visibility: hidden;\n",
       "                width: 120px;\n",
       "                background-color: black;\n",
       "                color: #fff;\n",
       "                text-align: center;\n",
       "                padding: 5px 0;\n",
       "                border-radius: 6px;\n",
       "                /* Position the tooltip text - see examples below! */\n",
       "                position: absolute;\n",
       "                z-index: 1;\n",
       "            }\n",
       "            #primary {\n",
       "                font-weight: bold;\n",
       "                color: black;\n",
       "            }\n",
       "\n",
       "            #nonprimary {\n",
       "                font-weight: normal;\n",
       "                color: white;\n",
       "            }\n",
       "\n",
       "            /* Show the tooltip text when you mouse over the tooltip container */\n",
       "            .djtooltip:hover .djtooltiptext {\n",
       "                visibility: visible;\n",
       "            }\n",
       "        </style>\n",
       "        \n",
       "        <b>Scores for Individual Neurons</b>\n",
       "            <div style=\"max-height:1000px;max-width:1500px;overflow:auto;\">\n",
       "            <table border=\"1\" class=\"Relation\">\n",
       "                <thead> <tr style=\"text-align: right;\"> <th> <div class=\"djtooltip\">\n",
       "                                <p id=\"primary\">model_fn</p>\n",
       "                                <span class=\"djtooltiptext\">name of the model function</span>\n",
       "                            </div></th><th><div class=\"djtooltip\">\n",
       "                                <p id=\"primary\">model_hash</p>\n",
       "                                <span class=\"djtooltiptext\">hash of the model configuration</span>\n",
       "                            </div></th><th><div class=\"djtooltip\">\n",
       "                                <p id=\"primary\">dataset_fn</p>\n",
       "                                <span class=\"djtooltiptext\">name of the dataset loader function</span>\n",
       "                            </div></th><th><div class=\"djtooltip\">\n",
       "                                <p id=\"primary\">dataset_hash</p>\n",
       "                                <span class=\"djtooltiptext\">hash of the configuration object</span>\n",
       "                            </div></th><th><div class=\"djtooltip\">\n",
       "                                <p id=\"primary\">trainer_fn</p>\n",
       "                                <span class=\"djtooltiptext\">name of the Trainer loader function</span>\n",
       "                            </div></th><th><div class=\"djtooltip\">\n",
       "                                <p id=\"primary\">trainer_hash</p>\n",
       "                                <span class=\"djtooltiptext\">hash of the configuration object</span>\n",
       "                            </div></th><th><div class=\"djtooltip\">\n",
       "                                <p id=\"primary\">seed</p>\n",
       "                                <span class=\"djtooltiptext\">Random seed that is passed to the model- and dataset-builder</span>\n",
       "                            </div></th><th><div class=\"djtooltip\">\n",
       "                                <p id=\"primary\">data_key</p>\n",
       "                                <span class=\"djtooltiptext\"></span>\n",
       "                            </div></th><th><div class=\"djtooltip\">\n",
       "                                <p id=\"primary\">unit_id</p>\n",
       "                                <span class=\"djtooltiptext\"></span>\n",
       "                            </div></th><th><div class=\"djtooltip\">\n",
       "                                <p id=\"nonprimary\">train_correlation</p>\n",
       "                                <span class=\"djtooltiptext\">A template for a computed unit score</span>\n",
       "                            </div> </th> </tr> </thead>\n",
       "                <tbody> <tr> <td>nnvision.models.se_core_full_gauss_readout</td>\n",
       "<td>28d96f527b5cc4579c9d03859c69ce56</td>\n",
       "<td>nnvision.datasets.monkey_static_loader</td>\n",
       "<td>117249699f3051cf435e6254d2972d02</td>\n",
       "<td>nnvision.training.nnvision_trainer</td>\n",
       "<td>93ddfe9d207ad5075416759970e51fb9</td>\n",
       "<td>1000</td>\n",
       "<td>3646924284383</td>\n",
       "<td>2</td>\n",
       "<td>0.17294</td></tr><tr><td>nnvision.models.se_core_full_gauss_readout</td>\n",
       "<td>28d96f527b5cc4579c9d03859c69ce56</td>\n",
       "<td>nnvision.datasets.monkey_static_loader</td>\n",
       "<td>117249699f3051cf435e6254d2972d02</td>\n",
       "<td>nnvision.training.nnvision_trainer</td>\n",
       "<td>93ddfe9d207ad5075416759970e51fb9</td>\n",
       "<td>1000</td>\n",
       "<td>3646924284383</td>\n",
       "<td>3</td>\n",
       "<td>0.148804</td></tr><tr><td>nnvision.models.se_core_full_gauss_readout</td>\n",
       "<td>28d96f527b5cc4579c9d03859c69ce56</td>\n",
       "<td>nnvision.datasets.monkey_static_loader</td>\n",
       "<td>117249699f3051cf435e6254d2972d02</td>\n",
       "<td>nnvision.training.nnvision_trainer</td>\n",
       "<td>93ddfe9d207ad5075416759970e51fb9</td>\n",
       "<td>1000</td>\n",
       "<td>3651417046988</td>\n",
       "<td>3</td>\n",
       "<td>0.0111443</td></tr><tr><td>nnvision.models.se_core_full_gauss_readout</td>\n",
       "<td>28d96f527b5cc4579c9d03859c69ce56</td>\n",
       "<td>nnvision.datasets.monkey_static_loader</td>\n",
       "<td>117249699f3051cf435e6254d2972d02</td>\n",
       "<td>nnvision.training.nnvision_trainer</td>\n",
       "<td>93ddfe9d207ad5075416759970e51fb9</td>\n",
       "<td>1000</td>\n",
       "<td>3651417046988</td>\n",
       "<td>5</td>\n",
       "<td>-0.00194716</td> </tr> </tbody>\n",
       "            </table>\n",
       "            \n",
       "            <p>Total: 4</p></div>\n",
       "            "
      ],
      "text/plain": [
       "*model_fn      *model_hash    *dataset_fn    *dataset_hash  *trainer_fn    *trainer_hash  *seed    *data_key      *unit_id    train_correlat\n",
       "+------------+ +------------+ +------------+ +------------+ +------------+ +------------+ +------+ +------------+ +---------+ +------------+\n",
       "nnvision.model 28d96f527b5cc4 nnvision.datas 117249699f3051 nnvision.train 93ddfe9d207ad5 1000     3646924284383  2           0.17294       \n",
       "nnvision.model 28d96f527b5cc4 nnvision.datas 117249699f3051 nnvision.train 93ddfe9d207ad5 1000     3646924284383  3           0.148804      \n",
       "nnvision.model 28d96f527b5cc4 nnvision.datas 117249699f3051 nnvision.train 93ddfe9d207ad5 1000     3651417046988  3           0.0111443     \n",
       "nnvision.model 28d96f527b5cc4 nnvision.datas 117249699f3051 nnvision.train 93ddfe9d207ad5 1000     3651417046988  5           -0.00194716   \n",
       " (Total: 4)"
      ]
     },
     "execution_count": 17,
     "metadata": {},
     "output_type": "execute_result"
    }
   ],
   "source": [
    "TrainCorrelation.UnitScore()"
   ]
  },
  {
   "cell_type": "code",
   "execution_count": 18,
   "metadata": {},
   "outputs": [
    {
     "name": "stderr",
     "output_type": "stream",
     "text": [
      "0it [00:00, ?it/s]\n"
     ]
    }
   ],
   "source": [
    "@schema\n",
    "class ValidationCorrelation(ScoringBase):\n",
    "    trainedmodel_table = TrainedModel\n",
    "    unit_table = MonkeyExperiment.Units\n",
    "    scoring_function = staticmethod(get_correlations)\n",
    "    scoring_dataset = \"validation\"\n",
    "    scoring_attribute = \"validation_correlation\"\n",
    "    \n",
    "ValidationCorrelation().populate(example_key, display_progress=True)"
   ]
  },
  {
   "cell_type": "code",
   "execution_count": 19,
   "metadata": {},
   "outputs": [
    {
     "name": "stderr",
     "output_type": "stream",
     "text": [
      "0it [00:00, ?it/s]\n"
     ]
    }
   ],
   "source": [
    "@schema\n",
    "class TestCorrelation(ScoringBase):\n",
    "    trainedmodel_table = TrainedModel\n",
    "    unit_table = MonkeyExperiment.Units\n",
    "    scoring_function = staticmethod(get_correlations)\n",
    "    scoring_dataset = \"test\"\n",
    "    scoring_attribute = \"test_correlation\"\n",
    "\n",
    "TestCorrelation().populate(example_key, display_progress=True)"
   ]
  },
  {
   "cell_type": "code",
   "execution_count": 20,
   "metadata": {},
   "outputs": [
    {
     "name": "stderr",
     "output_type": "stream",
     "text": [
      "0it [00:00, ?it/s]\n"
     ]
    }
   ],
   "source": [
    "@schema\n",
    "class AverageCorrelation(ScoringBase):\n",
    "    trainedmodel_table = TrainedModel\n",
    "    unit_table = MonkeyExperiment.Units\n",
    "    scoring_function = staticmethod(get_avg_correlations)\n",
    "    scoring_attribute = \"avg_correlation\"\n",
    "\n",
    "AverageCorrelation().populate(example_key, display_progress=True)"
   ]
  },
  {
   "cell_type": "code",
   "execution_count": 21,
   "metadata": {},
   "outputs": [
    {
     "name": "stderr",
     "output_type": "stream",
     "text": [
      "0it [00:00, ?it/s]\n"
     ]
    }
   ],
   "source": [
    "@schema\n",
    "class FEVe(ScoringBase):\n",
    "    trainedmodel_table = TrainedModel\n",
    "    unit_table = MonkeyExperiment.Units\n",
    "    scoring_function = staticmethod(get_FEV)\n",
    "    scoring_dataset = \"test\"\n",
    "    scoring_attribute = \"feve\"\n",
    "    \n",
    "FEVe().populate(example_key, display_progress=True)"
   ]
  },
  {
   "cell_type": "code",
   "execution_count": 22,
   "metadata": {},
   "outputs": [
    {
     "data": {
      "text/html": [
       "\n",
       "        \n",
       "        <style type=\"text/css\">\n",
       "            .Relation{\n",
       "                border-collapse:collapse;\n",
       "            }\n",
       "            .Relation th{\n",
       "                background: #A0A0A0; color: #ffffff; padding:4px; border:#f0e0e0 1px solid;\n",
       "                font-weight: normal; font-family: monospace; font-size: 100%;\n",
       "            }\n",
       "            .Relation td{\n",
       "                padding:4px; border:#f0e0e0 1px solid; font-size:100%;\n",
       "            }\n",
       "            .Relation tr:nth-child(odd){\n",
       "                background: #ffffff;\n",
       "            }\n",
       "            .Relation tr:nth-child(even){\n",
       "                background: #f3f1ff;\n",
       "            }\n",
       "            /* Tooltip container */\n",
       "            .djtooltip {\n",
       "            }\n",
       "            /* Tooltip text */\n",
       "            .djtooltip .djtooltiptext {\n",
       "                visibility: hidden;\n",
       "                width: 120px;\n",
       "                background-color: black;\n",
       "                color: #fff;\n",
       "                text-align: center;\n",
       "                padding: 5px 0;\n",
       "                border-radius: 6px;\n",
       "                /* Position the tooltip text - see examples below! */\n",
       "                position: absolute;\n",
       "                z-index: 1;\n",
       "            }\n",
       "            #primary {\n",
       "                font-weight: bold;\n",
       "                color: black;\n",
       "            }\n",
       "\n",
       "            #nonprimary {\n",
       "                font-weight: normal;\n",
       "                color: white;\n",
       "            }\n",
       "\n",
       "            /* Show the tooltip text when you mouse over the tooltip container */\n",
       "            .djtooltip:hover .djtooltiptext {\n",
       "                visibility: visible;\n",
       "            }\n",
       "        </style>\n",
       "        \n",
       "        <b>A template table for storing results/scores of a TrainedModel</b>\n",
       "            <div style=\"max-height:1000px;max-width:1500px;overflow:auto;\">\n",
       "            <table border=\"1\" class=\"Relation\">\n",
       "                <thead> <tr style=\"text-align: right;\"> <th> <div class=\"djtooltip\">\n",
       "                                <p id=\"primary\">model_fn</p>\n",
       "                                <span class=\"djtooltiptext\">name of the model function</span>\n",
       "                            </div></th><th><div class=\"djtooltip\">\n",
       "                                <p id=\"primary\">model_hash</p>\n",
       "                                <span class=\"djtooltiptext\">hash of the model configuration</span>\n",
       "                            </div></th><th><div class=\"djtooltip\">\n",
       "                                <p id=\"primary\">dataset_fn</p>\n",
       "                                <span class=\"djtooltiptext\">name of the dataset loader function</span>\n",
       "                            </div></th><th><div class=\"djtooltip\">\n",
       "                                <p id=\"primary\">dataset_hash</p>\n",
       "                                <span class=\"djtooltiptext\">hash of the configuration object</span>\n",
       "                            </div></th><th><div class=\"djtooltip\">\n",
       "                                <p id=\"primary\">trainer_fn</p>\n",
       "                                <span class=\"djtooltiptext\">name of the Trainer loader function</span>\n",
       "                            </div></th><th><div class=\"djtooltip\">\n",
       "                                <p id=\"primary\">trainer_hash</p>\n",
       "                                <span class=\"djtooltiptext\">hash of the configuration object</span>\n",
       "                            </div></th><th><div class=\"djtooltip\">\n",
       "                                <p id=\"primary\">seed</p>\n",
       "                                <span class=\"djtooltiptext\">Random seed that is passed to the model- and dataset-builder</span>\n",
       "                            </div></th><th><div class=\"djtooltip\">\n",
       "                                <p id=\"nonprimary\">feve</p>\n",
       "                                <span class=\"djtooltiptext\">A template for a computed score of a trained model</span>\n",
       "                            </div></th><th><div class=\"djtooltip\">\n",
       "                                <p id=\"nonprimary\">fabrikant_name</p>\n",
       "                                <span class=\"djtooltiptext\">Name of the contributor that added this entry</span>\n",
       "                            </div></th><th><div class=\"djtooltip\">\n",
       "                                <p id=\"nonprimary\">feve_ts</p>\n",
       "                                <span class=\"djtooltiptext\">UTZ timestamp at time of insertion</span>\n",
       "                            </div> </th> </tr> </thead>\n",
       "                <tbody> <tr> <td>nnvision.models.se_core_full_gauss_readout</td>\n",
       "<td>28d96f527b5cc4579c9d03859c69ce56</td>\n",
       "<td>nnvision.datasets.monkey_static_loader</td>\n",
       "<td>117249699f3051cf435e6254d2972d02</td>\n",
       "<td>nnvision.training.nnvision_trainer</td>\n",
       "<td>93ddfe9d207ad5075416759970e51fb9</td>\n",
       "<td>1000</td>\n",
       "<td>-0.0338058</td>\n",
       "<td>kwilleke</td>\n",
       "<td>2020-04-28 22:37:44</td> </tr> </tbody>\n",
       "            </table>\n",
       "            \n",
       "            <p>Total: 1</p></div>\n",
       "            "
      ],
      "text/plain": [
       "*model_fn      *model_hash    *dataset_fn    *dataset_hash  *trainer_fn    *trainer_hash  *seed    feve           fabrikant_name feve_ts       \n",
       "+------------+ +------------+ +------------+ +------------+ +------------+ +------------+ +------+ +------------+ +------------+ +------------+\n",
       "nnvision.model 28d96f527b5cc4 nnvision.datas 117249699f3051 nnvision.train 93ddfe9d207ad5 1000     -0.0338058     kwilleke       2020-04-28 22:\n",
       " (Total: 1)"
      ]
     },
     "execution_count": 22,
     "metadata": {},
     "output_type": "execute_result"
    }
   ],
   "source": [
    "FEVe()"
   ]
  },
  {
   "cell_type": "code",
   "execution_count": 23,
   "metadata": {},
   "outputs": [
    {
     "data": {
      "text/html": [
       "\n",
       "        \n",
       "        <style type=\"text/css\">\n",
       "            .Relation{\n",
       "                border-collapse:collapse;\n",
       "            }\n",
       "            .Relation th{\n",
       "                background: #A0A0A0; color: #ffffff; padding:4px; border:#f0e0e0 1px solid;\n",
       "                font-weight: normal; font-family: monospace; font-size: 100%;\n",
       "            }\n",
       "            .Relation td{\n",
       "                padding:4px; border:#f0e0e0 1px solid; font-size:100%;\n",
       "            }\n",
       "            .Relation tr:nth-child(odd){\n",
       "                background: #ffffff;\n",
       "            }\n",
       "            .Relation tr:nth-child(even){\n",
       "                background: #f3f1ff;\n",
       "            }\n",
       "            /* Tooltip container */\n",
       "            .djtooltip {\n",
       "            }\n",
       "            /* Tooltip text */\n",
       "            .djtooltip .djtooltiptext {\n",
       "                visibility: hidden;\n",
       "                width: 120px;\n",
       "                background-color: black;\n",
       "                color: #fff;\n",
       "                text-align: center;\n",
       "                padding: 5px 0;\n",
       "                border-radius: 6px;\n",
       "                /* Position the tooltip text - see examples below! */\n",
       "                position: absolute;\n",
       "                z-index: 1;\n",
       "            }\n",
       "            #primary {\n",
       "                font-weight: bold;\n",
       "                color: black;\n",
       "            }\n",
       "\n",
       "            #nonprimary {\n",
       "                font-weight: normal;\n",
       "                color: white;\n",
       "            }\n",
       "\n",
       "            /* Show the tooltip text when you mouse over the tooltip container */\n",
       "            .djtooltip:hover .djtooltiptext {\n",
       "                visibility: visible;\n",
       "            }\n",
       "        </style>\n",
       "        \n",
       "        <b>Scores for Individual Neurons</b>\n",
       "            <div style=\"max-height:1000px;max-width:1500px;overflow:auto;\">\n",
       "            <table border=\"1\" class=\"Relation\">\n",
       "                <thead> <tr style=\"text-align: right;\"> <th> <div class=\"djtooltip\">\n",
       "                                <p id=\"primary\">model_fn</p>\n",
       "                                <span class=\"djtooltiptext\">name of the model function</span>\n",
       "                            </div></th><th><div class=\"djtooltip\">\n",
       "                                <p id=\"primary\">model_hash</p>\n",
       "                                <span class=\"djtooltiptext\">hash of the model configuration</span>\n",
       "                            </div></th><th><div class=\"djtooltip\">\n",
       "                                <p id=\"primary\">dataset_fn</p>\n",
       "                                <span class=\"djtooltiptext\">name of the dataset loader function</span>\n",
       "                            </div></th><th><div class=\"djtooltip\">\n",
       "                                <p id=\"primary\">dataset_hash</p>\n",
       "                                <span class=\"djtooltiptext\">hash of the configuration object</span>\n",
       "                            </div></th><th><div class=\"djtooltip\">\n",
       "                                <p id=\"primary\">trainer_fn</p>\n",
       "                                <span class=\"djtooltiptext\">name of the Trainer loader function</span>\n",
       "                            </div></th><th><div class=\"djtooltip\">\n",
       "                                <p id=\"primary\">trainer_hash</p>\n",
       "                                <span class=\"djtooltiptext\">hash of the configuration object</span>\n",
       "                            </div></th><th><div class=\"djtooltip\">\n",
       "                                <p id=\"primary\">seed</p>\n",
       "                                <span class=\"djtooltiptext\">Random seed that is passed to the model- and dataset-builder</span>\n",
       "                            </div></th><th><div class=\"djtooltip\">\n",
       "                                <p id=\"primary\">data_key</p>\n",
       "                                <span class=\"djtooltiptext\"></span>\n",
       "                            </div></th><th><div class=\"djtooltip\">\n",
       "                                <p id=\"primary\">unit_id</p>\n",
       "                                <span class=\"djtooltiptext\"></span>\n",
       "                            </div></th><th><div class=\"djtooltip\">\n",
       "                                <p id=\"nonprimary\">feve</p>\n",
       "                                <span class=\"djtooltiptext\">A template for a computed unit score</span>\n",
       "                            </div> </th> </tr> </thead>\n",
       "                <tbody> <tr> <td>nnvision.models.se_core_full_gauss_readout</td>\n",
       "<td>28d96f527b5cc4579c9d03859c69ce56</td>\n",
       "<td>nnvision.datasets.monkey_static_loader</td>\n",
       "<td>117249699f3051cf435e6254d2972d02</td>\n",
       "<td>nnvision.training.nnvision_trainer</td>\n",
       "<td>93ddfe9d207ad5075416759970e51fb9</td>\n",
       "<td>1000</td>\n",
       "<td>3646924284383</td>\n",
       "<td>2</td>\n",
       "<td>0.0658183</td></tr><tr><td>nnvision.models.se_core_full_gauss_readout</td>\n",
       "<td>28d96f527b5cc4579c9d03859c69ce56</td>\n",
       "<td>nnvision.datasets.monkey_static_loader</td>\n",
       "<td>117249699f3051cf435e6254d2972d02</td>\n",
       "<td>nnvision.training.nnvision_trainer</td>\n",
       "<td>93ddfe9d207ad5075416759970e51fb9</td>\n",
       "<td>1000</td>\n",
       "<td>3646924284383</td>\n",
       "<td>3</td>\n",
       "<td>-0.00561118</td></tr><tr><td>nnvision.models.se_core_full_gauss_readout</td>\n",
       "<td>28d96f527b5cc4579c9d03859c69ce56</td>\n",
       "<td>nnvision.datasets.monkey_static_loader</td>\n",
       "<td>117249699f3051cf435e6254d2972d02</td>\n",
       "<td>nnvision.training.nnvision_trainer</td>\n",
       "<td>93ddfe9d207ad5075416759970e51fb9</td>\n",
       "<td>1000</td>\n",
       "<td>3651417046988</td>\n",
       "<td>3</td>\n",
       "<td>-0.0909464</td></tr><tr><td>nnvision.models.se_core_full_gauss_readout</td>\n",
       "<td>28d96f527b5cc4579c9d03859c69ce56</td>\n",
       "<td>nnvision.datasets.monkey_static_loader</td>\n",
       "<td>117249699f3051cf435e6254d2972d02</td>\n",
       "<td>nnvision.training.nnvision_trainer</td>\n",
       "<td>93ddfe9d207ad5075416759970e51fb9</td>\n",
       "<td>1000</td>\n",
       "<td>3651417046988</td>\n",
       "<td>5</td>\n",
       "<td>-0.104484</td> </tr> </tbody>\n",
       "            </table>\n",
       "            \n",
       "            <p>Total: 4</p></div>\n",
       "            "
      ],
      "text/plain": [
       "*model_fn      *model_hash    *dataset_fn    *dataset_hash  *trainer_fn    *trainer_hash  *seed    *data_key      *unit_id    feve          \n",
       "+------------+ +------------+ +------------+ +------------+ +------------+ +------------+ +------+ +------------+ +---------+ +------------+\n",
       "nnvision.model 28d96f527b5cc4 nnvision.datas 117249699f3051 nnvision.train 93ddfe9d207ad5 1000     3646924284383  2           0.0658183     \n",
       "nnvision.model 28d96f527b5cc4 nnvision.datas 117249699f3051 nnvision.train 93ddfe9d207ad5 1000     3646924284383  3           -0.00561118   \n",
       "nnvision.model 28d96f527b5cc4 nnvision.datas 117249699f3051 nnvision.train 93ddfe9d207ad5 1000     3651417046988  3           -0.0909464    \n",
       "nnvision.model 28d96f527b5cc4 nnvision.datas 117249699f3051 nnvision.train 93ddfe9d207ad5 1000     3651417046988  5           -0.104484     \n",
       " (Total: 4)"
      ]
     },
     "execution_count": 23,
     "metadata": {},
     "output_type": "execute_result"
    }
   ],
   "source": [
    "FEVe().UnitScore()"
   ]
  },
  {
   "cell_type": "code",
   "execution_count": null,
   "metadata": {},
   "outputs": [],
   "source": []
  }
 ],
 "metadata": {
  "kernelspec": {
   "display_name": "Python 3",
   "language": "python",
   "name": "python3"
  },
  "language_info": {
   "codemirror_mode": {
    "name": "ipython",
    "version": 3
   },
   "file_extension": ".py",
   "mimetype": "text/x-python",
   "name": "python",
   "nbconvert_exporter": "python",
   "pygments_lexer": "ipython3",
   "version": "3.8.0"
  }
 },
 "nbformat": 4,
 "nbformat_minor": 4
}
