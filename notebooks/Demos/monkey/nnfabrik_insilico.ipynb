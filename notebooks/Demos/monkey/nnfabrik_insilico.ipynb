{
 "cells": [
  {
   "cell_type": "code",
   "execution_count": 122,
   "metadata": {},
   "outputs": [
    {
     "name": "stdout",
     "output_type": "stream",
     "text": [
      "The autoreload extension is already loaded. To reload it, use:\n",
      "  %reload_ext autoreload\n"
     ]
    }
   ],
   "source": [
    "%load_ext autoreload\n",
    "%autoreload 2\n",
    "\n",
    "import datajoint as dj\n",
    "dj.config[\"enable_python_native_blobs\"] = True\n",
    "dj.config['schema_name'] = \"nnfabrik_monkey_mei\"\n",
    "schema = dj.schema(\"nnfabrik_monkey_mei\")\n",
    "\n",
    "import os\n",
    "from os import listdir\n",
    "from os.path import isfile, join\n",
    "\n",
    "\n",
    "import torch\n",
    "import numpy as np\n",
    "import pickle \n",
    "import time\n",
    "import matplotlib.pyplot as plt\n",
    "import seaborn as sns\n",
    "\n",
    "import nnfabrik\n",
    "from nnfabrik import main, builder\n",
    "from nnfabrik.main import *\n",
    "\n",
    "import nnvision\n",
    "from nnvision.tables.from_nnfabrik import TrainedModel"
   ]
  },
  {
   "cell_type": "code",
   "execution_count": 3,
   "metadata": {},
   "outputs": [
    {
     "ename": "ImportError",
     "evalue": "cannot import name 'TrainedEnsembleModel' from 'nnvision.tables.from_mei' (/notebooks/nnvision/nnvision/nnvision/tables/from_mei.py)",
     "output_type": "error",
     "traceback": [
      "\u001b[0;31m---------------------------------------------------------------------------\u001b[0m",
      "\u001b[0;31mImportError\u001b[0m                               Traceback (most recent call last)",
      "\u001b[0;32m<ipython-input-3-c977f3a4aeb7>\u001b[0m in \u001b[0;36m<module>\u001b[0;34m\u001b[0m\n\u001b[1;32m      1\u001b[0m \u001b[0;31m# nnfabrik main\u001b[0m\u001b[0;34m\u001b[0m\u001b[0;34m\u001b[0m\u001b[0;34m\u001b[0m\u001b[0m\n\u001b[1;32m      2\u001b[0m \u001b[0;32mfrom\u001b[0m \u001b[0mnnvision\u001b[0m\u001b[0;34m.\u001b[0m\u001b[0mtables\u001b[0m\u001b[0;34m.\u001b[0m\u001b[0mlegacy\u001b[0m\u001b[0;34m.\u001b[0m\u001b[0mmain\u001b[0m \u001b[0;32mimport\u001b[0m \u001b[0mMonkeyExperiment\u001b[0m\u001b[0;34m\u001b[0m\u001b[0;34m\u001b[0m\u001b[0m\n\u001b[0;32m----> 3\u001b[0;31m \u001b[0;32mfrom\u001b[0m \u001b[0mnnvision\u001b[0m\u001b[0;34m.\u001b[0m\u001b[0mtables\u001b[0m\u001b[0;34m.\u001b[0m\u001b[0mfrom_mei\u001b[0m \u001b[0;32mimport\u001b[0m \u001b[0mTrainedEnsembleModel\u001b[0m\u001b[0;34m,\u001b[0m \u001b[0mMEIMethod\u001b[0m\u001b[0;34m\u001b[0m\u001b[0;34m\u001b[0m\u001b[0m\n\u001b[0m\u001b[1;32m      4\u001b[0m \u001b[0;32mfrom\u001b[0m \u001b[0mfeaturevis\u001b[0m\u001b[0;34m.\u001b[0m\u001b[0mmain\u001b[0m \u001b[0;32mimport\u001b[0m \u001b[0mMEITemplate\u001b[0m\u001b[0;34m\u001b[0m\u001b[0;34m\u001b[0m\u001b[0m\n\u001b[1;32m      5\u001b[0m \u001b[0;34m\u001b[0m\u001b[0m\n",
      "\u001b[0;31mImportError\u001b[0m: cannot import name 'TrainedEnsembleModel' from 'nnvision.tables.from_mei' (/notebooks/nnvision/nnvision/nnvision/tables/from_mei.py)"
     ]
    }
   ],
   "source": [
    "# nnfabrik main\n",
    "from nnvision.tables.legacy.main import MonkeyExperiment\n",
    "from nnvision.tables.legacy.from_mei import TrainedEnsembleModel, MEIMethod, MEITemplate\n",
    "\n",
    "@schema\n",
    "class MEI_update(MEITemplate):\n",
    "    trained_model_table = TrainedEnsembleModel\n",
    "    selector_table = MonkeyExperiment.Units"
   ]
  },
  {
   "cell_type": "code",
   "execution_count": 120,
   "metadata": {},
   "outputs": [],
   "source": [
    "# parameters\n",
    "\n",
    "dataset_hash='a737408da40cfedd036c2eb1b8a31ff1'\n",
    "ensemble_hash='e7a8d0b961ee37ffda0779bfed95f1cf'\n",
    "\n",
    "data_key='3631807112901'\n",
    "unit_id = 28\n",
    "unit_index = 27\n",
    "\n",
    "# image dimensions:\n",
    "h, w = 41, 41"
   ]
  },
  {
   "cell_type": "code",
   "execution_count": 71,
   "metadata": {},
   "outputs": [
    {
     "name": "stdout",
     "output_type": "stream",
     "text": [
      "data_key: 3631807112901, unit_id = 28, image shape: (41, 41)\n"
     ]
    },
    {
     "data": {
      "image/png": "[encoded data removed]",
      "text/plain": [
       "<Figure size 432x288 with 1 Axes>"
      ]
     },
     "metadata": {
      "needs_background": "light"
     },
     "output_type": "display_data"
    }
   ],
   "source": [
    "# MEI of our example Neuron\n",
    "mei_path = (MEI_update & dict(dataset_hash=dataset_hash, unit_id=unit_id, data_key=data_key)).fetch1(\"mei\")\n",
    "mei = torch.load(mei_path).cpu().numpy().squeeze()\n",
    "plt.imshow(mei, cmap=\"gray\")\n",
    "plt.axis(\"off\");\n",
    "print(f\"data_key: {data_key}, unit_id = {unit_id}, image shape: {mei.shape}\")\n"
   ]
  },
  {
   "cell_type": "markdown",
   "metadata": {},
   "source": [
    "# Loading the Pretrained Model"
   ]
  },
  {
   "cell_type": "code",
   "execution_count": null,
   "metadata": {},
   "outputs": [],
   "source": [
    "model_key = (TrainedModel * TrainedEnsembleModel.Member()&dict(ensemble_hash=ensemble_hash)).fetch(\"KEY\", limit=1, order_by=\"score DESC\")\n",
    "dataloaders, model = TrainedModel().load_model(model_key)"
   ]
  },
  {
   "cell_type": "markdown",
   "metadata": {},
   "source": [
    "# Preparing a Input to the Network"
   ]
  },
  {
   "cell_type": "code",
   "execution_count": 96,
   "metadata": {},
   "outputs": [],
   "source": [
    "image = np.ones((h, w))"
   ]
  },
  {
   "cell_type": "code",
   "execution_count": 97,
   "metadata": {},
   "outputs": [
    {
     "name": "stdout",
     "output_type": "stream",
     "text": [
      "torch.Size([1, 1, 41, 41])\n"
     ]
    }
   ],
   "source": [
    "image = torch.tensor(image).expand(1, 1, h, w).float()\n",
    "print(image.shape)"
   ]
  },
  {
   "cell_type": "markdown",
   "metadata": {},
   "source": [
    "# Showing the image to the network"
   ]
  },
  {
   "cell_type": "code",
   "execution_count": 105,
   "metadata": {},
   "outputs": [
    {
     "name": "stdout",
     "output_type": "stream",
     "text": [
      "tensor([[1.0474, 2.8474, 5.1279, 2.0741, 0.1858, 1.8463, 3.5357, 3.2995, 2.3225,\n",
      "         1.4257, 1.1249, 2.2426, 1.0805, 1.6501, 0.7194, 0.3462, 2.5356, 1.8475,\n",
      "         0.8906, 2.2328, 0.7816, 1.2581, 1.5327, 0.6552, 1.7042, 0.1225, 0.0431,\n",
      "         1.1925, 0.2696]], grad_fn=<AddBackward0>)\n"
     ]
    }
   ],
   "source": [
    "output = model(image, data_key=data_key)\n",
    "print(output)"
   ]
  },
  {
   "cell_type": "code",
   "execution_count": 106,
   "metadata": {},
   "outputs": [
    {
     "name": "stdout",
     "output_type": "stream",
     "text": [
      "[1.047436   2.8474355  5.1279464  2.0741277  0.18582952 1.8463438\n",
      " 3.5356622  3.2994509  2.322476   1.4257126  1.1248753  2.2425804\n",
      " 1.0805346  1.6501456  0.7194471  0.34617758 2.5356104  1.847538\n",
      " 0.8905896  2.2328286  0.78164977 1.2580585  1.5327287  0.65515345\n",
      " 1.7041799  0.12254584 0.04309916 1.1925452  0.26955545]\n"
     ]
    }
   ],
   "source": [
    "output_numpy = output.detach().numpy().squeeze()\n",
    "print(output_numpy)"
   ]
  },
  {
   "cell_type": "markdown",
   "metadata": {},
   "source": [
    "# Get the output of our example Neuron"
   ]
  },
  {
   "cell_type": "code",
   "execution_count": 107,
   "metadata": {},
   "outputs": [
    {
     "data": {
      "text/plain": [
       "1.1925452"
      ]
     },
     "execution_count": 107,
     "metadata": {},
     "output_type": "execute_result"
    }
   ],
   "source": [
    "output_numpy[unit_index]"
   ]
  },
  {
   "cell_type": "markdown",
   "metadata": {},
   "source": [
    "# Get the Outputs of a large number of images all at once"
   ]
  },
  {
   "cell_type": "code",
   "execution_count": 108,
   "metadata": {},
   "outputs": [],
   "source": [
    "images = np.random.randn(100, 1, h, w)\n",
    "images = torch.tensor(images).float()"
   ]
  },
  {
   "cell_type": "code",
   "execution_count": 115,
   "metadata": {},
   "outputs": [
    {
     "name": "stdout",
     "output_type": "stream",
     "text": [
      "(100, 29)\n"
     ]
    }
   ],
   "source": [
    "output = model(image, data_key=data_key).detach().numpy()\n",
    "print(output.shape)\n",
    "# so that means, we have 100 responses for the 100 images, for all 29 neurons of this session"
   ]
  },
  {
   "cell_type": "markdown",
   "metadata": {},
   "source": [
    "# Plotting the response of the example neuron to all of the 100 random images\n"
   ]
  },
  {
   "cell_type": "code",
   "execution_count": 124,
   "metadata": {},
   "outputs": [
    {
     "data": {
      "image/png": "[encoded data removed]",
      "text/plain": [
       "<Figure size 432x288 with 1 Axes>"
      ]
     },
     "metadata": {
      "needs_background": "light"
     },
     "output_type": "display_data"
    }
   ],
   "source": [
    "plt.plot(output[:, unit_index])\n",
    "plt.ylabel(\"firing rate\")\n",
    "plt.xlabel(\"image\")\n",
    "sns.despine(trim=True, offset=5)"
   ]
  },
  {
   "cell_type": "markdown",
   "metadata": {},
   "source": [
    "##### toy insilico experiment done."
   ]
  },
  {
   "cell_type": "code",
   "execution_count": null,
   "metadata": {},
   "outputs": [],
   "source": []
  },
  {
   "cell_type": "code",
   "execution_count": null,
   "metadata": {},
   "outputs": [],
   "source": []
  },
  {
   "cell_type": "code",
   "execution_count": null,
   "metadata": {},
   "outputs": [],
   "source": []
  },
  {
   "cell_type": "code",
   "execution_count": null,
   "metadata": {},
   "outputs": [],
   "source": []
  }
 ],
 "metadata": {
  "kernelspec": {
   "display_name": "Python 3",
   "language": "python",
   "name": "python3"
  },
  "language_info": {
   "codemirror_mode": {
    "name": "ipython",
    "version": 3
   },
   "file_extension": ".py",
   "mimetype": "text/x-python",
   "name": "python",
   "nbconvert_exporter": "python",
   "pygments_lexer": "ipython3",
   "version": "3.8.0"
  },
  "pycharm": {
   "stem_cell": {
    "cell_type": "raw",
    "source": [],
    "metadata": {
     "collapsed": false
    }
   }
  }
 },
 "nbformat": 4,
 "nbformat_minor": 4
}